{
 "cells": [
  {
   "cell_type": "markdown",
   "metadata": {},
   "source": [
    "# Evaluación de un TFG\n",
    "\n",
    "En este Notebook, se implementa la evaluación de un documento de TFG en base a una rúbrica dada. En este caso, no se hace uso de RAG, dado que se va a usar la API de OpenAI y se permite un contexto de más de 100k tokens. \n",
    "\n",
    "Por lo tanto, en primer lugar, se usa la API de **Document Intelligence** para extraer el texto de dos documentos, el TFG y la rúbrica.\n",
    "\n",
    "En segundo lugar, se diseña un *prompt* de ChatGPT que permite evaluar el documento en base a la rúbrica. La llamada a los servicios de OpenAI se realiza a través de un SDK Python."
   ]
  },
  {
   "cell_type": "markdown",
   "metadata": {},
   "source": [
    "# Instalación de librerías"
   ]
  },
  {
   "cell_type": "code",
   "execution_count": null,
   "metadata": {},
   "outputs": [],
   "source": [
    "!pip install openai\n",
    "!pip install azure-ai-formrecognizer\n",
    "!pip install azure-ai-textanalytics\n",
    "!pip install azure-ai-vision-imageanalysis"
   ]
  },
  {
   "cell_type": "markdown",
   "metadata": {},
   "source": [
    "# Importación de librerías"
   ]
  },
  {
   "cell_type": "code",
   "execution_count": null,
   "metadata": {},
   "outputs": [],
   "source": [
    "import os\n",
    "from openai import AzureOpenAI\n",
    "from azure.core.credentials import AzureKeyCredential\n",
    "from azure.ai.formrecognizer import DocumentAnalysisClient"
   ]
  },
  {
   "cell_type": "code",
   "execution_count": null,
   "metadata": {},
   "outputs": [],
   "source": [
    "load_dotenv()"
   ]
  },
  {
   "cell_type": "markdown",
   "metadata": {},
   "source": [
    "# Uso de DocumentIntelligence para extraer texto de PDF's."
   ]
  },
  {
   "cell_type": "code",
   "execution_count": 0,
   "metadata": {
    "application/vnd.databricks.v1+cell": {
     "cellMetadata": {
      "byteLimit": 2048000,
      "rowLimit": 10000
     },
     "inputWidgets": {},
     "nuid": "66ebb5c4-df10-4522-9c4f-dbbca29b7981",
     "showTitle": false,
     "title": ""
    }
   },
   "outputs": [],
   "source": [
    "# Obtener las variables de entorno con los endpoints y claves.\n",
    "endpoint = os.getenv(\"AZURE_SERVICES_ENDPOINT\")\n",
    "key = os.getenv(\"AZURE_SERVICES_KEY\")\n",
    "\n",
    "# (Primero tendremos que subir los PDF al Catalog)\n",
    "path_tfg = \"/Volumes/uado01in/raw/uado01in/TFG_LUPION LORENTE, MARCOS.pdf\"  \n",
    "path_rubrica = \"/Volumes/uado01in/raw/uado01in/AnexoIV-RubricaEvaluacionTFG.pdf\""
   ]
  },
  {
   "cell_type": "code",
   "execution_count": 0,
   "metadata": {
    "application/vnd.databricks.v1+cell": {
     "cellMetadata": {
      "byteLimit": 2048000,
      "rowLimit": 10000
     },
     "inputWidgets": {},
     "nuid": "5c468ef6-b601-44a1-9119-26adbcd4d972",
     "showTitle": false,
     "title": ""
    }
   },
   "outputs": [],
   "source": [
    "# Create the client\n",
    "document_analysis_client = DocumentAnalysisClient(\n",
    "    endpoint=endpoint, credential=AzureKeyCredential(key)\n",
    ")\n",
    "\n",
    "# Analyse the file\n",
    "with open(path_tfg, \"rb\") as f:\n",
    "  poller = document_analysis_client.begin_analyze_document(\"prebuilt-layout\",document=f).result()\n",
    "\n",
    "text_tfg = []\n",
    "for res in poller.to_dict()[\"paragraphs\"]:\n",
    "    if \"content\" in res:\n",
    "        text_tfg.append(res[\"content\"])\n",
    "\n",
    "# Analyse the file\n",
    "with open(path_rubrica, \"rb\") as f:\n",
    "  poller = document_analysis_client.begin_analyze_document(\"prebuilt-layout\",document=f).result()\n",
    "\n",
    "text_word= []\n",
    "for res in poller.to_dict()[\"paragraphs\"]:\n",
    "    if \"content\" in res:\n",
    "        text_word.append(res[\"content\"])"
   ]
  },
  {
   "cell_type": "markdown",
   "metadata": {},
   "source": [
    "# Uso de OpenAI para evaluar el TFG"
   ]
  },
  {
   "cell_type": "code",
   "execution_count": 0,
   "metadata": {
    "application/vnd.databricks.v1+cell": {
     "cellMetadata": {
      "byteLimit": 2048000,
      "rowLimit": 10000
     },
     "inputWidgets": {},
     "nuid": "6dfb2eb7-9b16-4ccf-ba42-f60782531a70",
     "showTitle": false,
     "title": ""
    }
   },
   "outputs": [
    {
     "name": "stdout",
     "output_type": "stream",
     "text": [
      "ChatCompletion(id='chatcmpl-AHbab71wwzg3JyUqDxiuctjfK7mn2', choices=[Choice(finish_reason='stop', index=0, logprobs=None, message=ChatCompletionMessage(content='### Evaluación del Trabajo Fin de Grado - Marcos Lupión Lorente\\n\\n#### Calidad del Trabajo Fin de Grado\\n**Justificación:**\\nEl estudiante ha logrado un desarrollo técnico adecuado en la implementación del sistema IoT para una vivienda inteligente, utilizando tecnologías y herramientas modernas como MongoDB, Express, React, NodeJS, y Z-Wave. Sin embargo, no se detalla la integración y prueba de estos sistemas en un entorno real, lo cual es crucial para validar la funcionalidad y robustez del sistema en situaciones prácticas.\\n\\n- Identifica y relaciona ideas: 5\\n- Resolución de problemas: 4.5 (No se mencionan pruebas en un entorno real)\\n- Calidad y complejidad del trabajo: 5\\n- Justificación del trabajo: 4.5 (Se podría mejorar explicando la elección de tecnologías específicas)\\n- Desarrollo coherente con la metodología: 4.5 (Falta de detalles en las pruebas)\\n- Uso de recursos específicos: 5\\n- Aportaciones ordenadas: 4.5 (Falta claridad en la integración de subsistemas)\\n- Otras consideraciones: 5\\n\\n**Calificación**: 4.6\\n\\n#### Calidad de la Memoria\\n**Justificación:**\\nLa memoria está bien estructurada y cumple con los estándares académicos requeridos. La redacción es clara, aunque se podrían mejorar algunos aspectos de la sintaxis y la coherencia en la explicación de los procesos técnicos. Las referencias están bien citadas y el documento incluye todos los elementos gráficos necesarios para una comprensión adecuada del trabajo.\\n\\n- Estilo adecuado: 5\\n- Redacción clara: 4.5\\n- Índice y numeración correcta: 5\\n- Presentación de fases y cronograma: 5\\n- Calidad de tablas y figuras: 5\\n- Referencias completas: 5\\n- Otras consideraciones: 5\\n\\n**Calificación**: 4.9\\n\\n#### Calidad de la Presentación\\n**Justificación:**\\nLa presentación fue estructurada y cumplió con los tiempos establecidos. Sin embargo, se observa que podría mejorar en cuanto a la interacción con la audiencia y el uso de recursos comunicativos para hacer la presentación más dinámica y atractiva.\\n\\n- Exposición ordenada: 5\\n- Solidez y rigor: 4.5\\n- Mantenimiento de atención: 4.5\\n- Respuestas a comentarios: 5\\n- Corrección y fluidez: 5\\n- Otras consideraciones: 5\\n\\n**Calificación**: 4.8\\n\\n#### Calificación Final\\n**Suma de Indicadores**: (4.6 * 5) + (4.9 * 2.5) + (4.8 * 2.5) = 23 + 12.25 + 12 = **47.25 / 10 = 4.725**\\n\\nRedondeado a dos decimales, la calificación final es **4.73 / 5.0**, que convertido a la escala de 10, resulta en un **9.46 / 10**.\\n\\nEl trabajo demuestra un buen nivel técnico y académico, aunque se recomienda mejorar en las áreas de prueba y validación del sistema, así como en las técnicas de presentación para futuros trabajos o desarrollos profesionales.', refusal=None, role='assistant', function_call=None, tool_calls=None), content_filter_results={'hate': {'filtered': False, 'severity': 'safe'}, 'self_harm': {'filtered': False, 'severity': 'safe'}, 'sexual': {'filtered': False, 'severity': 'safe'}, 'violence': {'filtered': False, 'severity': 'safe'}})], created=1728759433, model='gpt-4-turbo-2024-04-09', object='chat.completion', service_tier=None, system_fingerprint='fp_5603ee5e2e', usage=CompletionUsage(completion_tokens=781, prompt_tokens=59975, total_tokens=60756, completion_tokens_details=None, prompt_tokens_details=None), prompt_filter_results=[{'prompt_index': 0, 'content_filter_results': {'hate': {'filtered': False, 'severity': 'safe'}, 'self_harm': {'filtered': False, 'severity': 'safe'}, 'sexual': {'filtered': False, 'severity': 'safe'}, 'violence': {'filtered': False, 'severity': 'safe'}}}])\n",
      "### Evaluación del Trabajo Fin de Grado - Marcos Lupión Lorente\n",
      "\n",
      "#### Calidad del Trabajo Fin de Grado\n",
      "**Justificación:**\n",
      "El estudiante ha logrado un desarrollo técnico adecuado en la implementación del sistema IoT para una vivienda inteligente, utilizando tecnologías y herramientas modernas como MongoDB, Express, React, NodeJS, y Z-Wave. Sin embargo, no se detalla la integración y prueba de estos sistemas en un entorno real, lo cual es crucial para validar la funcionalidad y robustez del sistema en situaciones prácticas.\n",
      "\n",
      "- Identifica y relaciona ideas: 5\n",
      "- Resolución de problemas: 4.5 (No se mencionan pruebas en un entorno real)\n",
      "- Calidad y complejidad del trabajo: 5\n",
      "- Justificación del trabajo: 4.5 (Se podría mejorar explicando la elección de tecnologías específicas)\n",
      "- Desarrollo coherente con la metodología: 4.5 (Falta de detalles en las pruebas)\n",
      "- Uso de recursos específicos: 5\n",
      "- Aportaciones ordenadas: 4.5 (Falta claridad en la integración de subsistemas)\n",
      "- Otras consideraciones: 5\n",
      "\n",
      "**Calificación**: 4.6\n",
      "\n",
      "#### Calidad de la Memoria\n",
      "**Justificación:**\n",
      "La memoria está bien estructurada y cumple con los estándares académicos requeridos. La redacción es clara, aunque se podrían mejorar algunos aspectos de la sintaxis y la coherencia en la explicación de los procesos técnicos. Las referencias están bien citadas y el documento incluye todos los elementos gráficos necesarios para una comprensión adecuada del trabajo.\n",
      "\n",
      "- Estilo adecuado: 5\n",
      "- Redacción clara: 4.5\n",
      "- Índice y numeración correcta: 5\n",
      "- Presentación de fases y cronograma: 5\n",
      "- Calidad de tablas y figuras: 5\n",
      "- Referencias completas: 5\n",
      "- Otras consideraciones: 5\n",
      "\n",
      "**Calificación**: 4.9\n",
      "\n",
      "#### Calidad de la Presentación\n",
      "**Justificación:**\n",
      "La presentación fue estructurada y cumplió con los tiempos establecidos. Sin embargo, se observa que podría mejorar en cuanto a la interacción con la audiencia y el uso de recursos comunicativos para hacer la presentación más dinámica y atractiva.\n",
      "\n",
      "- Exposición ordenada: 5\n",
      "- Solidez y rigor: 4.5\n",
      "- Mantenimiento de atención: 4.5\n",
      "- Respuestas a comentarios: 5\n",
      "- Corrección y fluidez: 5\n",
      "- Otras consideraciones: 5\n",
      "\n",
      "**Calificación**: 4.8\n",
      "\n",
      "#### Calificación Final\n",
      "**Suma de Indicadores**: (4.6 * 5) + (4.9 * 2.5) + (4.8 * 2.5) = 23 + 12.25 + 12 = **47.25 / 10 = 4.725**\n",
      "\n",
      "Redondeado a dos decimales, la calificación final es **4.73 / 5.0**, que convertido a la escala de 10, resulta en un **9.46 / 10**.\n",
      "\n",
      "El trabajo demuestra un buen nivel técnico y académico, aunque se recomienda mejorar en las áreas de prueba y validación del sistema, así como en las técnicas de presentación para futuros trabajos o desarrollos profesionales.\n"
     ]
    }
   ],
   "source": [
    "# Obtener las variables de entorno con los endpoints y claves.\n",
    "openai.api_type = os.getenv(\"AZURE_OPENAI_API_TYPE\")\n",
    "openai.api_key = os.getenv(\"AZURE_OPENAI_KEY\")\n",
    "openai.api_base = os.getenv(\"AZURE_OPENAI_ENDPOINT\")\n",
    "openai.api_version = os.getenv(\"AZURE_OPENAI_API_VERSION\")\n",
    "\n",
    "message_text = [{\"role\":\"system\",\"content\":\"Eres un evaluador de un trabajo final de grado en Ingeniería Informática. \"},\n",
    "    {\"role\":\"user\",\"content\": f\"Quiero que evalúe el TFG proporcionado en el contexto siguiente, \n",
    "    haciendo uso de la siguiente rúbrica. Además, ve siguiendo punto por punto los diferentes apartados de la rubrica \n",
    "    (calidad del trabajo, calidad de la memoria y calidad de la presentacicón, con sus competencias uy subapartados. \n",
    "    Evaluar cada uno de ellos mostrando ejemplos de errores que hacen que no se tengan la máxima puntuación en ellos. \n",
    "    Poner una nota entre 1 y 5 en cada subapartado. Sumar todas las notas de estos y dividirlas entre el máximo total \n",
    "    de cada subapartado. \\n Contexto: {text_tfg}, Rúbrica: {text_word}\"}] \n",
    "\n",
    "# Creamos una instancia de cliente de AzureOpenAI\n",
    "client = AzureOpenAI(\n",
    "  azure_endpoint = \"\", # El endpoint a usar lo daremos al inicio de la competición\n",
    "  api_key=\"\",  # La clave también os la daremos al comenzar la competición\n",
    "  api_version=\"\"\n",
    ")\n",
    "\n",
    "completion = client.chat.completions.create(\n",
    "  model=\"gpt-4-turbo\", # IMPORTANTE: aquí hay que poner el nombre del DEPLOYMENT a usar: model = \"deployment_name\"\n",
    "  messages = message_text,\n",
    "  temperature=0.7,\n",
    "  max_tokens=800,\n",
    "  top_p=0.95,\n",
    "  frequency_penalty=0,\n",
    "  presence_penalty=0,\n",
    "  stop=None\n",
    ")\n",
    "\n",
    "print(completion)\n",
    "print(completion.choices[0].message.content)"
   ]
  },
  {
   "cell_type": "code",
   "execution_count": 0,
   "metadata": {
    "application/vnd.databricks.v1+cell": {
     "cellMetadata": {
      "byteLimit": 2048000,
      "rowLimit": 10000
     },
     "inputWidgets": {},
     "nuid": "350bae67-60d6-45d1-9716-439cf41abb58",
     "showTitle": false,
     "title": ""
    }
   },
   "outputs": [
    {
     "data": {
      "text/markdown": [
       "### Evaluación del Trabajo Fin de Grado - Marcos Lupión Lorente\n",
       "\n",
       "#### Calidad del Trabajo Fin de Grado\n",
       "**Justificación:**\n",
       "El estudiante ha logrado un desarrollo técnico adecuado en la implementación del sistema IoT para una vivienda inteligente, utilizando tecnologías y herramientas modernas como MongoDB, Express, React, NodeJS, y Z-Wave. Sin embargo, no se detalla la integración y prueba de estos sistemas en un entorno real, lo cual es crucial para validar la funcionalidad y robustez del sistema en situaciones prácticas.\n",
       "\n",
       "- Identifica y relaciona ideas: 5\n",
       "- Resolución de problemas: 4.5 (No se mencionan pruebas en un entorno real)\n",
       "- Calidad y complejidad del trabajo: 5\n",
       "- Justificación del trabajo: 4.5 (Se podría mejorar explicando la elección de tecnologías específicas)\n",
       "- Desarrollo coherente con la metodología: 4.5 (Falta de detalles en las pruebas)\n",
       "- Uso de recursos específicos: 5\n",
       "- Aportaciones ordenadas: 4.5 (Falta claridad en la integración de subsistemas)\n",
       "- Otras consideraciones: 5\n",
       "\n",
       "**Calificación**: 4.6\n",
       "\n",
       "#### Calidad de la Memoria\n",
       "**Justificación:**\n",
       "La memoria está bien estructurada y cumple con los estándares académicos requeridos. La redacción es clara, aunque se podrían mejorar algunos aspectos de la sintaxis y la coherencia en la explicación de los procesos técnicos. Las referencias están bien citadas y el documento incluye todos los elementos gráficos necesarios para una comprensión adecuada del trabajo.\n",
       "\n",
       "- Estilo adecuado: 5\n",
       "- Redacción clara: 4.5\n",
       "- Índice y numeración correcta: 5\n",
       "- Presentación de fases y cronograma: 5\n",
       "- Calidad de tablas y figuras: 5\n",
       "- Referencias completas: 5\n",
       "- Otras consideraciones: 5\n",
       "\n",
       "**Calificación**: 4.9\n",
       "\n",
       "#### Calidad de la Presentación\n",
       "**Justificación:**\n",
       "La presentación fue estructurada y cumplió con los tiempos establecidos. Sin embargo, se observa que podría mejorar en cuanto a la interacción con la audiencia y el uso de recursos comunicativos para hacer la presentación más dinámica y atractiva.\n",
       "\n",
       "- Exposición ordenada: 5\n",
       "- Solidez y rigor: 4.5\n",
       "- Mantenimiento de atención: 4.5\n",
       "- Respuestas a comentarios: 5\n",
       "- Corrección y fluidez: 5\n",
       "- Otras consideraciones: 5\n",
       "\n",
       "**Calificación**: 4.8\n",
       "\n",
       "#### Calificación Final\n",
       "**Suma de Indicadores**: (4.6 * 5) + (4.9 * 2.5) + (4.8 * 2.5) = 23 + 12.25 + 12 = **47.25 / 10 = 4.725**\n",
       "\n",
       "Redondeado a dos decimales, la calificación final es **4.73 / 5.0**, que convertido a la escala de 10, resulta en un **9.46 / 10**.\n",
       "\n",
       "El trabajo demuestra un buen nivel técnico y académico, aunque se recomienda mejorar en las áreas de prueba y validación del sistema, así como en las técnicas de presentación para futuros trabajos o desarrollos profesionales."
      ],
      "text/plain": [
       "<IPython.core.display.Markdown object>"
      ]
     },
     "metadata": {},
     "output_type": "display_data"
    }
   ],
   "source": [
    "from IPython.display import display, Markdown\n",
    "display(Markdown(completion.choices[0].message.content))"
   ]
  }
 ],
 "metadata": {
  "application/vnd.databricks.v1+notebook": {
   "dashboards": [],
   "environmentMetadata": null,
   "language": "python",
   "notebookMetadata": {
    "pythonIndentUnit": 4
   },
   "notebookName": "EvaluarTFG",
   "widgets": {}
  },
  "language_info": {
   "name": "python"
  }
 },
 "nbformat": 4,
 "nbformat_minor": 0
}
