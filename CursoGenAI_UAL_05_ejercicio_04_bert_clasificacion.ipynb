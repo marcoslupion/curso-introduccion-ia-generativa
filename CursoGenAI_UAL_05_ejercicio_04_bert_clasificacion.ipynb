{
 "cells": [
  {
   "cell_type": "markdown",
   "id": "b947ec2c",
   "metadata": {},
   "source": [
    "## Clasificación de Discurso de Odio usando BERT y Modelos Tradicionales"
   ]
  },
  {
   "cell_type": "markdown",
   "id": "1e34218e",
   "metadata": {},
   "source": [
    "En este notebook, se implementan diferentes técnicas de clasificación para clasificar diferentes frases en discurso de odio, o discurso sin odio. \n",
    "\n",
    "Para ello, se extraen los embeddings haciendo uso de un modelo BERT pre-entrenado, y posteriormente se clasifican a través de un algoritmo de ML clásico. \n",
    "\n",
    "Posteriormente, se proponen otras alternativas para mejorar los resultados de la clasificación."
   ]
  },
  {
   "cell_type": "code",
   "execution_count": 1,
   "id": "78094e3c",
   "metadata": {},
   "outputs": [
    {
     "name": "stderr",
     "output_type": "stream",
     "text": [
      "c:\\Users\\Marcos\\Programas\\Python3.8\\lib\\site-packages\\tqdm\\auto.py:21: TqdmWarning: IProgress not found. Please update jupyter and ipywidgets. See https://ipywidgets.readthedocs.io/en/stable/user_install.html\n",
      "  from .autonotebook import tqdm as notebook_tqdm\n"
     ]
    }
   ],
   "source": [
    "from datasets import load_dataset\n",
    "from transformers import BertTokenizer, BertModel\n",
    "import torch\n",
    "from sklearn.model_selection import train_test_split\n",
    "from sklearn.svm import SVC\n",
    "from sklearn.metrics import confusion_matrix, classification_report\n",
    "import matplotlib.pyplot as plt\n",
    "import seaborn as sns\n",
    "from transformers import AutoTokenizer, AutoModel\n",
    "from transformers import pipeline\n",
    "from transformers import AutoModelForSequenceClassification"
   ]
  },
  {
   "cell_type": "code",
   "execution_count": 2,
   "id": "7cd0c5e9",
   "metadata": {},
   "outputs": [
    {
     "name": "stdout",
     "output_type": "stream",
     "text": [
      "DatasetDict({\n",
      "    train: Dataset({\n",
      "        features: ['text', 'user_id', 'subforum_id', 'num_contexts', 'label'],\n",
      "        num_rows: 10944\n",
      "    })\n",
      "})\n"
     ]
    }
   ],
   "source": [
    "# Cargar el dataset de discurso de odio de Hugging Face\n",
    "# Usaremos el dataset 'hate_speech18' como ejemplo\n",
    "dataset = load_dataset('hate_speech18', trust_remote_code=True)\n",
    "print(dataset)\n",
    "# Filtrar solo las columnas necesarias para este ejercicio (texto y etiquetas)\n",
    "train_data = dataset['train'][:100]\n",
    "test_data = dataset['train'][100:150]"
   ]
  },
  {
   "cell_type": "markdown",
   "id": "1da2ae65",
   "metadata": {},
   "source": [
    "#### Uso de un modelo BERT pre-entrenado"
   ]
  },
  {
   "cell_type": "code",
   "execution_count": null,
   "id": "04ddb674",
   "metadata": {},
   "outputs": [],
   "source": [
    "# Cargar el tokenizer y el modelo pre-entrenado BERT\n",
    "tokenizer = BertTokenizer.from_pretrained('bert-base-uncased')\n",
    "bert_model = BertModel.from_pretrained('bert-base-uncased')\n",
    "\n",
    "# Definir una función para extraer los embeddings utilizando BERT\n",
    "def extract_embeddings(texts):\n",
    "    inputs = tokenizer(texts, padding=True, truncation=True, return_tensors='pt')\n",
    "    with torch.no_grad():\n",
    "        outputs = bert_model(**inputs)\n",
    "    # Usar la salida de la última capa oculta como los embeddings\n",
    "    embeddings = outputs.last_hidden_state[:, 0, :].numpy()  # Usar solo el token [CLS] para cada secuencia\n",
    "    return embeddings\n",
    "\n",
    "# Extraer los embeddings de ejemplo de las primeras 100 muestras (para reducir el tiempo de procesamiento)\n",
    "X_train = train_data['text']\n",
    "X_train = extract_embeddings(X_train)\n",
    "y_train = train_data['label']\n",
    "\n",
    "X_test = test_data['text']\n",
    "X_test = extract_embeddings(X_test)\n",
    "y_test = test_data['label']"
   ]
  },
  {
   "cell_type": "markdown",
   "id": "3ba76f70",
   "metadata": {},
   "source": [
    "#### Uso de un algoritmo de ML básico (SVM) para la clasificación de los embeddings."
   ]
  },
  {
   "cell_type": "code",
   "execution_count": 4,
   "id": "b3741994",
   "metadata": {},
   "outputs": [
    {
     "name": "stdout",
     "output_type": "stream",
     "text": [
      "Matriz de Confusión: [[33  4]\n",
      " [12  1]]\n",
      "Reporte de Clasificación:               precision    recall  f1-score   support\n",
      "\n",
      "           0       0.73      0.89      0.80        37\n",
      "           1       0.20      0.08      0.11        13\n",
      "\n",
      "    accuracy                           0.68        50\n",
      "   macro avg       0.47      0.48      0.46        50\n",
      "weighted avg       0.59      0.68      0.62        50\n",
      "\n"
     ]
    },
    {
     "data": {
      "image/png": "[encoded data removed]",
      "text/plain": [
       "<Figure size 432x288 with 2 Axes>"
      ]
     },
     "metadata": {
      "needs_background": "light"
     },
     "output_type": "display_data"
    }
   ],
   "source": [
    "# Entrenar un clasificador SVM usando los embeddings de BERT\n",
    "svm_classifier = SVC(kernel='linear', random_state=42)\n",
    "svm_classifier.fit(X_train, y_train)\n",
    "\n",
    "# Predecir en el conjunto de prueba\n",
    "y_pred = svm_classifier.predict(X_test)\n",
    "# Calcular la matriz de confusión\n",
    "conf_matrix = confusion_matrix(y_test, y_pred)\n",
    "print(\"Matriz de Confusión:\", conf_matrix)\n",
    "\n",
    "# Mostrar el reporte de clasificación para obtener más detalles de rendimiento\n",
    "print(\"Reporte de Clasificación:\", classification_report(y_test, y_pred))\n",
    "\n",
    "# Visualizar la matriz de confusión\n",
    "plt.figure(figsize=(6, 4))\n",
    "sns.heatmap(conf_matrix, annot=True, fmt='d', cmap='Blues', xticklabels=['No Odio', 'Odio'], yticklabels=['No Odio', 'Odio'])\n",
    "plt.xlabel('Predicción')\n",
    "plt.ylabel('Real')\n",
    "plt.title('Matriz de Confusión - SVM Clasificador')\n",
    "plt.show()"
   ]
  },
  {
   "cell_type": "markdown",
   "id": "4567fad6",
   "metadata": {},
   "source": [
    "Como se puede observar, los resultados están lejos de lo deseado. \n",
    "\n",
    "Para solucionar esto, pueden intentarse varias opciones:\n",
    "- Cambiar el clasificador de ML. Se pueden probar otros con RandomForest o kNN. \n",
    "- Usar otro modelo de embedding. ¿Y si hay algún modelo de embedding entrenado específicamente para detectar discurso de odio?¿O simplemente de clasificación?"
   ]
  },
  {
   "cell_type": "markdown",
   "id": "c13496ff",
   "metadata": {},
   "source": [
    "### Ejercicio 1: Implementar alguna mejora"
   ]
  },
  {
   "cell_type": "markdown",
   "id": "909f2213",
   "metadata": {},
   "source": [
    "#### Usando un modelo pre-entrenado para generar los embeddings"
   ]
  },
  {
   "cell_type": "code",
   "execution_count": null,
   "id": "e147913f",
   "metadata": {},
   "outputs": [],
   "source": [
    "from transformers import AutoModelForSequenceClassification\n",
    "# Cargar el tokenizer y el modelo pre-entrenado BERT\n",
    "tokenizer = AutoTokenizer.from_pretrained('facebook/roberta-hate-speech-dynabench-r4-target')\n",
    "bert_model = AutoModelForSequenceClassification.from_pretrained('facebook/roberta-hate-speech-dynabench-r4-target')"
   ]
  },
  {
   "cell_type": "code",
   "execution_count": 6,
   "id": "35ebb7f7",
   "metadata": {},
   "outputs": [
    {
     "name": "stdout",
     "output_type": "stream",
     "text": [
      "Embeddings generados para el dataset de discurso de odio.\n"
     ]
    }
   ],
   "source": [
    "# Definir una función para extraer los embeddings utilizando BERT\n",
    "def extract_embeddings(texts):\n",
    "    inputs = tokenizer(texts, padding=True, truncation=True, return_tensors='pt')\n",
    "    with torch.no_grad():\n",
    "        outputs = bert_model(**inputs, output_hidden_states=True)\n",
    "    # Usar la salida de la última capa oculta como los embeddings\n",
    "    embeddings = outputs.hidden_states[-2][:, 0, :].numpy()  # Usar solo el token [CLS] para cada secuencia\n",
    "    return embeddings\n",
    "\n",
    "# Extraer los embeddings de ejemplo de las primeras 100 muestras (para reducir el tiempo de procesamiento)\n",
    "X_train = train_data['text']\n",
    "X_train = extract_embeddings(X_train)\n",
    "y_train = train_data['label']\n",
    "\n",
    "X_test = test_data['text']\n",
    "X_test = extract_embeddings(X_test)\n",
    "y_test = test_data['label']"
   ]
  },
  {
   "cell_type": "code",
   "execution_count": 7,
   "id": "5bb09b9a",
   "metadata": {},
   "outputs": [
    {
     "data": {
      "text/plain": [
       "RobertaForSequenceClassification(\n",
       "  (roberta): RobertaModel(\n",
       "    (embeddings): RobertaEmbeddings(\n",
       "      (word_embeddings): Embedding(50265, 768, padding_idx=1)\n",
       "      (position_embeddings): Embedding(514, 768, padding_idx=1)\n",
       "      (token_type_embeddings): Embedding(1, 768)\n",
       "      (LayerNorm): LayerNorm((768,), eps=1e-05, elementwise_affine=True)\n",
       "      (dropout): Dropout(p=0.1, inplace=False)\n",
       "    )\n",
       "    (encoder): RobertaEncoder(\n",
       "      (layer): ModuleList(\n",
       "        (0-11): 12 x RobertaLayer(\n",
       "          (attention): RobertaAttention(\n",
       "            (self): RobertaSdpaSelfAttention(\n",
       "              (query): Linear(in_features=768, out_features=768, bias=True)\n",
       "              (key): Linear(in_features=768, out_features=768, bias=True)\n",
       "              (value): Linear(in_features=768, out_features=768, bias=True)\n",
       "              (dropout): Dropout(p=0.1, inplace=False)\n",
       "            )\n",
       "            (output): RobertaSelfOutput(\n",
       "              (dense): Linear(in_features=768, out_features=768, bias=True)\n",
       "              (LayerNorm): LayerNorm((768,), eps=1e-05, elementwise_affine=True)\n",
       "              (dropout): Dropout(p=0.1, inplace=False)\n",
       "            )\n",
       "          )\n",
       "          (intermediate): RobertaIntermediate(\n",
       "            (dense): Linear(in_features=768, out_features=3072, bias=True)\n",
       "            (intermediate_act_fn): GELUActivation()\n",
       "          )\n",
       "          (output): RobertaOutput(\n",
       "            (dense): Linear(in_features=3072, out_features=768, bias=True)\n",
       "            (LayerNorm): LayerNorm((768,), eps=1e-05, elementwise_affine=True)\n",
       "            (dropout): Dropout(p=0.1, inplace=False)\n",
       "          )\n",
       "        )\n",
       "      )\n",
       "    )\n",
       "  )\n",
       "  (classifier): RobertaClassificationHead(\n",
       "    (dense): Linear(in_features=768, out_features=768, bias=True)\n",
       "    (dropout): Dropout(p=0.1, inplace=False)\n",
       "    (out_proj): Linear(in_features=768, out_features=2, bias=True)\n",
       "  )\n",
       ")"
      ]
     },
     "execution_count": 7,
     "metadata": {},
     "output_type": "execute_result"
    }
   ],
   "source": [
    "bert_model"
   ]
  },
  {
   "cell_type": "code",
   "execution_count": 9,
   "id": "e5d13d87",
   "metadata": {},
   "outputs": [
    {
     "name": "stdout",
     "output_type": "stream",
     "text": [
      "[0 0 0 0 1 0 0 0 1 0 1 1 1 0 1 0 0 1 0 0 1 0 0 0 0 0 1 0 0 0 0 0 1 1 0 0 0\n",
      " 0 0 1 0 0 0 0 0 1 1 0 0 0]\n",
      "Matriz de Confusión: [[34  3]\n",
      " [ 2 11]]\n",
      "Reporte de Clasificación:               precision    recall  f1-score   support\n",
      "\n",
      "           0       0.94      0.92      0.93        37\n",
      "           1       0.79      0.85      0.81        13\n",
      "\n",
      "    accuracy                           0.90        50\n",
      "   macro avg       0.87      0.88      0.87        50\n",
      "weighted avg       0.90      0.90      0.90        50\n",
      "\n"
     ]
    },
    {
     "data": {
      "image/png": "[encoded data removed]",
      "text/plain": [
       "<Figure size 432x288 with 2 Axes>"
      ]
     },
     "metadata": {
      "needs_background": "light"
     },
     "output_type": "display_data"
    }
   ],
   "source": [
    "# Entrenar un clasificador SVM usando los embeddings de BERT\n",
    "svm_classifier = SVC(kernel='linear', random_state=42)\n",
    "svm_classifier.fit(X_train, y_train)\n",
    "\n",
    "# Predecir en el conjunto de prueba\n",
    "y_pred = svm_classifier.predict(X_test)\n",
    "print(y_pred)\n",
    "# Calcular la matriz de confusión\n",
    "conf_matrix = confusion_matrix(y_test, y_pred)\n",
    "print(\"Matriz de Confusión:\", conf_matrix)\n",
    "\n",
    "# Mostrar el reporte de clasificación para obtener más detalles de rendimiento\n",
    "print(\"Reporte de Clasificación:\", classification_report(y_test, y_pred))\n",
    "\n",
    "# Visualizar la matriz de confusión\n",
    "plt.figure(figsize=(6, 4))\n",
    "sns.heatmap(conf_matrix, annot=True, fmt='d', cmap='Blues', xticklabels=['No Odio', 'Odio'], yticklabels=['No Odio', 'Odio'])\n",
    "plt.xlabel('Predicción')\n",
    "plt.ylabel('Real')\n",
    "plt.title('Matriz de Confusión - SVM Clasificador')\n",
    "plt.show()"
   ]
  },
  {
   "cell_type": "markdown",
   "id": "deb15eb0",
   "metadata": {},
   "source": [
    "#### Usando un modelo pre-entrenado para hacer la inferencia directamente."
   ]
  },
  {
   "cell_type": "code",
   "execution_count": null,
   "id": "1f287dc6",
   "metadata": {},
   "outputs": [],
   "source": [
    "model_name = \"facebook/roberta-hate-speech-dynabench-r4-target\"\n",
    "pt_model = AutoModelForSequenceClassification.from_pretrained(model_name)\n",
    "tokenizer = AutoTokenizer.from_pretrained(model_name)\n",
    "pt_batch = tokenizer(\n",
    "    test_data['text'],\n",
    "    padding=True,\n",
    "    truncation=True,\n",
    "    max_length=512,\n",
    "    return_tensors=\"pt\",\n",
    ")\n",
    "outputs = pt_model(**pt_batch)\n",
    "y_pred_test = torch.argmax(outputs.logits, dim=1)\n",
    "y_gt_test = y_test"
   ]
  },
  {
   "cell_type": "code",
   "execution_count": 20,
   "id": "f1a5f35b",
   "metadata": {},
   "outputs": [
    {
     "name": "stdout",
     "output_type": "stream",
     "text": [
      "Matriz de Confusión: [[36  1]\n",
      " [ 3 10]]\n",
      "Reporte de Clasificación:               precision    recall  f1-score   support\n",
      "\n",
      "           0       0.92      0.97      0.95        37\n",
      "           1       0.91      0.77      0.83        13\n",
      "\n",
      "    accuracy                           0.92        50\n",
      "   macro avg       0.92      0.87      0.89        50\n",
      "weighted avg       0.92      0.92      0.92        50\n",
      "\n"
     ]
    },
    {
     "data": {
      "image/png": "[encoded data removed]",
      "text/plain": [
       "<Figure size 432x288 with 2 Axes>"
      ]
     },
     "metadata": {
      "needs_background": "light"
     },
     "output_type": "display_data"
    }
   ],
   "source": [
    "conf_matrix = confusion_matrix(y_gt_test, y_pred_test)\n",
    "print(\"Matriz de Confusión:\", conf_matrix)\n",
    "\n",
    "# Mostrar el reporte de clasificación para obtener más detalles de rendimiento\n",
    "print(\"Reporte de Clasificación:\", classification_report(y_test, y_pred_test))\n",
    "\n",
    "# Visualizar la matriz de confusión\n",
    "plt.figure(figsize=(6, 4))\n",
    "sns.heatmap(conf_matrix, annot=True, fmt='d', cmap='Blues', xticklabels=['No Odio', 'Odio'], yticklabels=['No Odio', 'Odio'])\n",
    "plt.xlabel('Predicción')\n",
    "plt.ylabel('Real')\n",
    "plt.title('Matriz de Confusión - SVM Clasificador')\n",
    "plt.show()"
   ]
  },
  {
   "cell_type": "markdown",
   "id": "cf2fb6f3",
   "metadata": {},
   "source": [
    "#### Ejercicio 2\n",
    "\n",
    "Intenta predecir la clase de varias frases que incorpores en el siguiente array:"
   ]
  },
  {
   "cell_type": "code",
   "execution_count": 19,
   "id": "fb000c96",
   "metadata": {},
   "outputs": [
    {
     "name": "stdout",
     "output_type": "stream",
     "text": [
      "[0 0]\n",
      "Matriz de Confusión: [[1 0]\n",
      " [1 0]]\n",
      "Reporte de Clasificación:               precision    recall  f1-score   support\n",
      "\n",
      "           0       0.50      1.00      0.67         1\n",
      "           1       0.00      0.00      0.00         1\n",
      "\n",
      "    accuracy                           0.50         2\n",
      "   macro avg       0.25      0.50      0.33         2\n",
      "weighted avg       0.25      0.50      0.33         2\n",
      "\n"
     ]
    },
    {
     "name": "stderr",
     "output_type": "stream",
     "text": [
      "c:\\Users\\Marcos\\Programas\\Python3.8\\lib\\site-packages\\sklearn\\metrics\\_classification.py:1334: UndefinedMetricWarning: Precision and F-score are ill-defined and being set to 0.0 in labels with no predicted samples. Use `zero_division` parameter to control this behavior.\n",
      "  _warn_prf(average, modifier, msg_start, len(result))\n",
      "c:\\Users\\Marcos\\Programas\\Python3.8\\lib\\site-packages\\sklearn\\metrics\\_classification.py:1334: UndefinedMetricWarning: Precision and F-score are ill-defined and being set to 0.0 in labels with no predicted samples. Use `zero_division` parameter to control this behavior.\n",
      "  _warn_prf(average, modifier, msg_start, len(result))\n",
      "c:\\Users\\Marcos\\Programas\\Python3.8\\lib\\site-packages\\sklearn\\metrics\\_classification.py:1334: UndefinedMetricWarning: Precision and F-score are ill-defined and being set to 0.0 in labels with no predicted samples. Use `zero_division` parameter to control this behavior.\n",
      "  _warn_prf(average, modifier, msg_start, len(result))\n"
     ]
    },
    {
     "data": {
      "image/png": "[encoded data removed]",
      "text/plain": [
       "<Figure size 432x288 with 2 Axes>"
      ]
     },
     "metadata": {
      "needs_background": "light"
     },
     "output_type": "display_data"
    }
   ],
   "source": [
    "array_inferencia = [\"Me ha parecido muy bien el comentario.\",\"¡Eres un inepto!\"]\n",
    "array_gt = [0,1]\n",
    "\n",
    "array_inferencia_embeddings = extract_embeddings(array_inferencia)\n",
    "\n",
    "\n",
    "# Predecir en el conjunto de prueba\n",
    "y_pred_ej2 = svm_classifier.predict(array_inferencia_embeddings)\n",
    "print(y_pred_ej2)\n",
    "# Calcular la matriz de confusión\n",
    "conf_matrix = confusion_matrix(array_gt, y_pred_ej2)\n",
    "print(\"Matriz de Confusión:\", conf_matrix)\n",
    "\n",
    "# Mostrar el reporte de clasificación para obtener más detalles de rendimiento\n",
    "print(\"Reporte de Clasificación:\", classification_report(array_gt, y_pred_ej2))\n",
    "\n",
    "# Visualizar la matriz de confusión\n",
    "plt.figure(figsize=(6, 4))\n",
    "sns.heatmap(conf_matrix, annot=True, fmt='d', cmap='Blues', xticklabels=['No Odio', 'Odio'], yticklabels=['No Odio', 'Odio'])\n",
    "plt.xlabel('Predicción')\n",
    "plt.ylabel('Real')\n",
    "plt.title('Matriz de Confusión - SVM Clasificador')\n",
    "plt.show()"
   ]
  },
  {
   "cell_type": "markdown",
   "id": "64644c98",
   "metadata": {},
   "source": [
    "#### Usar un pipeline"
   ]
  },
  {
   "cell_type": "code",
   "execution_count": 11,
   "id": "334eff0e",
   "metadata": {},
   "outputs": [],
   "source": [
    "test_data_text = test_data[\"text\"]\n",
    "test_data_label = test_data[\"label\"]"
   ]
  },
  {
   "cell_type": "code",
   "execution_count": 16,
   "id": "371c9f9c",
   "metadata": {},
   "outputs": [
    {
     "name": "stderr",
     "output_type": "stream",
     "text": [
      "c:\\Users\\Marcos\\Programas\\Python3.8\\lib\\site-packages\\transformers\\tokenization_utils_base.py:1617: FutureWarning: `clean_up_tokenization_spaces` was not set. It will be set to `True` by default. This behavior will be deprecated in transformers v4.45, and will be then set to `False` by default. For more details check this issue: https://github.com/huggingface/transformers/issues/31884\n",
      "  warnings.warn(\n"
     ]
    },
    {
     "name": "stdout",
     "output_type": "stream",
     "text": [
      "[0, 0, 0, 0, 1, 0, 0, 0, 1, 0, 1, 0, 1, 0, 1, 0, 0, 1, 0, 0, 1, 0, 0, 0, 0, 0, 1, 0, 0, 0, 0, 0, 1, 1, 0, 0, 0, 0, 0, 1, 0, 0, 0, 0, 0, 0, 0, 0, 0, 0]\n"
     ]
    }
   ],
   "source": [
    "classifier = pipeline(model=\"facebook/roberta-hate-speech-dynabench-r4-target\", batch_size=1)\n",
    "res_classifier = classifier(test_data_text)\n",
    "pred_pipeline = [0 if e[\"label\"]== \"nothate\"  else 1 for e in res_classifier]\n",
    "print(pred_pipeline)"
   ]
  },
  {
   "cell_type": "code",
   "execution_count": 17,
   "id": "56da480b",
   "metadata": {},
   "outputs": [
    {
     "name": "stdout",
     "output_type": "stream",
     "text": [
      "Matriz de Confusión: [[36  1]\n",
      " [ 3 10]]\n",
      "Reporte de Clasificación:               precision    recall  f1-score   support\n",
      "\n",
      "           0       0.92      0.97      0.95        37\n",
      "           1       0.91      0.77      0.83        13\n",
      "\n",
      "    accuracy                           0.92        50\n",
      "   macro avg       0.92      0.87      0.89        50\n",
      "weighted avg       0.92      0.92      0.92        50\n",
      "\n"
     ]
    },
    {
     "data": {
      "image/png": "[encoded data removed]",
      "text/plain": [
       "<Figure size 432x288 with 2 Axes>"
      ]
     },
     "metadata": {
      "needs_background": "light"
     },
     "output_type": "display_data"
    }
   ],
   "source": [
    "# Calcular la matriz de confusión\n",
    "conf_matrix = confusion_matrix(test_data_label, pred_pipeline)\n",
    "print(\"Matriz de Confusión:\", conf_matrix)\n",
    "\n",
    "# Mostrar el reporte de clasificación para obtener más detalles de rendimiento\n",
    "print(\"Reporte de Clasificación:\", classification_report(test_data_label, pred_pipeline))\n",
    "\n",
    "# Visualizar la matriz de confusión\n",
    "plt.figure(figsize=(6, 4))\n",
    "sns.heatmap(conf_matrix, annot=True, fmt='d', cmap='Blues', xticklabels=['No Odio', 'Odio'], yticklabels=['No Odio', 'Odio'])\n",
    "plt.xlabel('Predicción')\n",
    "plt.ylabel('Real')\n",
    "plt.title('Matriz de Confusión - SVM Clasificador')\n",
    "plt.show()"
   ]
  },
  {
   "cell_type": "code",
   "execution_count": null,
   "id": "57d1dc44",
   "metadata": {},
   "outputs": [],
   "source": []
  }
 ],
 "metadata": {
  "kernelspec": {
   "display_name": "Python 3",
   "language": "python",
   "name": "python3"
  },
  "language_info": {
   "codemirror_mode": {
    "name": "ipython",
    "version": 3
   },
   "file_extension": ".py",
   "mimetype": "text/x-python",
   "name": "python",
   "nbconvert_exporter": "python",
   "pygments_lexer": "ipython3",
   "version": "3.8.0"
  }
 },
 "nbformat": 4,
 "nbformat_minor": 5
}
